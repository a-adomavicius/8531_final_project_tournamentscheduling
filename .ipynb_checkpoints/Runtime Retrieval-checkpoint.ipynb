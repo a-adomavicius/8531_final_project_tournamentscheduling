{
 "cells": [
  {
   "cell_type": "code",
   "execution_count": 16,
   "metadata": {},
   "outputs": [
    {
     "name": "stdout",
     "output_type": "stream",
     "text": [
      "['183.6', '186.7', '107.8', '165.2', '112.5', '107.3', '125.2', '122.7', '148.6', '169.5', '168.8', '157.2', '110.7', '208.9', '146.6', '148.9', '180.1', '160.0', '115.4', '135.4']\n",
      "['12.7', '13.3', '16.9', '13.3', '13.1', '14.7', '14.4', '12.1', '13.4', '9.6', '12.2', '13.2', '14.0', '16.2', '12.9', '16.3', '14.4', '13.8', '8.9', '8.7']\n",
      "148.05861854553223\n",
      "13.21286325454712\n"
     ]
    }
   ],
   "source": [
    "import os\n",
    "import json\n",
    "N = 20 # number of test instances used\n",
    "\n",
    "#Parameters used, for convenience of retrieving data from files generated \n",
    "\n",
    "k = 3\n",
    "T = 336\n",
    "W = 0.1\n",
    "ALPHA = 0 \n",
    "\n",
    "runtimes1 = []\n",
    "runtimes2 = []\n",
    "for n in range(N):\n",
    "    resultsm1 = os.getcwd() + r'\\results\\w' + str(W) + \"_alpha\" + str(ALPHA) + r'\\m1_' + str(k) + \"_\" + str(T) + \"_\" + str(n+1) + \".json\"\n",
    "    resultsm2 = os.getcwd() + r'\\results\\w' + str(W) + \"_alpha\" + str(ALPHA) + r'\\m2_' + str(k) + \"_\" + str(T) + \"_\" + str(n+1) + \".json\"\n",
    "    r1 = open(resultsm1, \"r\")\n",
    "    r2 = open(resultsm2, \"r\")\n",
    "    data1 = json.loads(r1.read())\n",
    "    data2 = json.loads(r2.read())\n",
    "    runtimes1.append(data1[\"SolutionInfo\"][\"Runtime\"])\n",
    "    runtimes2.append(data2[\"SolutionInfo\"][\"Runtime\"])\n",
    "print([\"%.1f\" % i for i in runtimes1])\n",
    "print([\"%.1f\" % i for i in runtimes2])\n",
    "print(sum(runtimes1)/len(runtimes1))\n",
    "print(sum(runtimes2)/len(runtimes2))"
   ]
  },
  {
   "cell_type": "code",
   "execution_count": 17,
   "metadata": {},
   "outputs": [
    {
     "name": "stdout",
     "output_type": "stream",
     "text": [
      "['20.0', '23.3', '24.1', '23.0', '23.2', '21.0', '25.8', '17.0', '21.1', '21.8', '23.8', '21.5', '22.1', '27.3', '30.9', '24.9', '22.1', '23.3', '21.5', '19.3']\n",
      "['12.8', '14.1', '14.2', '13.4', '12.8', '12.5', '16.9', '28.4', '15.8', '21.1', '28.0', '11.3', '15.6', '15.1', '14.9', '12.0', '16.0', '12.6', '18.0', '12.9']\n",
      "22.84748258590698\n",
      "15.91710958480835\n"
     ]
    }
   ],
   "source": [
    "ALPHA = 0.5\n",
    "\n",
    "runtimes1 = []\n",
    "runtimes2 = []\n",
    "for n in range(N):\n",
    "    resultsm1 = os.getcwd() + r'\\results\\w' + str(W) + \"_alpha\" + str(ALPHA) + r'\\m1_' + str(k) + \"_\" + str(T) + \"_\" + str(n+1) + \".json\"\n",
    "    resultsm2 = os.getcwd() + r'\\results\\w' + str(W) + \"_alpha\" + str(ALPHA) + r'\\m2_' + str(k) + \"_\" + str(T) + \"_\" + str(n+1) + \".json\"\n",
    "    r1 = open(resultsm1, \"r\")\n",
    "    r2 = open(resultsm2, \"r\")\n",
    "    data1 = json.loads(r1.read())\n",
    "    data2 = json.loads(r2.read())\n",
    "    runtimes1.append(data1[\"SolutionInfo\"][\"Runtime\"])\n",
    "    runtimes2.append(data2[\"SolutionInfo\"][\"Runtime\"])\n",
    "print([\"%.1f\" % i for i in runtimes1])\n",
    "print([\"%.1f\" % i for i in runtimes2])\n",
    "print(sum(runtimes1)/len(runtimes1))\n",
    "print(sum(runtimes2)/len(runtimes2))"
   ]
  },
  {
   "cell_type": "code",
   "execution_count": 18,
   "metadata": {},
   "outputs": [
    {
     "name": "stdout",
     "output_type": "stream",
     "text": [
      "['86.6', '95.8', '118.2', '111.0', '171.6', '94.5', '113.3', '69.5', '89.9', '106.2', '67.9', '140.0', '73.1', '111.3', '82.3', '75.5', '203.0', '101.4', '98.3', '86.0']\n",
      "['10.3', '21.6', '30.0', '17.5', '27.8', '22.0', '14.6', '11.1', '29.8', '27.6', '11.7', '21.6', '14.2', '10.9', '22.9', '16.7', '27.2', '18.5', '25.8', '13.6']\n",
      "104.76502723693848\n",
      "19.76104907989502\n"
     ]
    }
   ],
   "source": [
    "ALPHA = 10\n",
    "\n",
    "runtimes1 = []\n",
    "runtimes2 = []\n",
    "for n in range(N):\n",
    "    resultsm1 = os.getcwd() + r'\\results\\w' + str(W) + \"_alpha\" + str(ALPHA) + r'\\m1_' + str(k) + \"_\" + str(T) + \"_\" + str(n+1) + \".json\"\n",
    "    resultsm2 = os.getcwd() + r'\\results\\w' + str(W) + \"_alpha\" + str(ALPHA) + r'\\m2_' + str(k) + \"_\" + str(T) + \"_\" + str(n+1) + \".json\"\n",
    "    r1 = open(resultsm1, \"r\")\n",
    "    r2 = open(resultsm2, \"r\")\n",
    "    data1 = json.loads(r1.read())\n",
    "    data2 = json.loads(r2.read())\n",
    "    runtimes1.append(data1[\"SolutionInfo\"][\"Runtime\"])\n",
    "    runtimes2.append(data2[\"SolutionInfo\"][\"Runtime\"])\n",
    "print([\"%.1f\" % i for i in runtimes1])\n",
    "print([\"%.1f\" % i for i in runtimes2])\n",
    "print(sum(runtimes1)/len(runtimes1))\n",
    "print(sum(runtimes2)/len(runtimes2))"
   ]
  },
  {
   "cell_type": "code",
   "execution_count": null,
   "metadata": {},
   "outputs": [],
   "source": []
  }
 ],
 "metadata": {
  "kernelspec": {
   "display_name": "Python 3",
   "language": "python",
   "name": "python3"
  },
  "language_info": {
   "codemirror_mode": {
    "name": "ipython",
    "version": 3
   },
   "file_extension": ".py",
   "mimetype": "text/x-python",
   "name": "python",
   "nbconvert_exporter": "python",
   "pygments_lexer": "ipython3",
   "version": "3.7.1"
  }
 },
 "nbformat": 4,
 "nbformat_minor": 2
}
